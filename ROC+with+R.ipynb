{
 "cells": [
  {
   "cell_type": "code",
   "execution_count": 1,
   "metadata": {
    "collapsed": false
   },
   "outputs": [
    {
     "name": "stderr",
     "output_type": "stream",
     "text": [
      "Warning message in file(file, \"rt\"):\n",
      "“impossible d'ouvrir le fichier 'OneClass_CenterReduce_features_Train.txt' : Aucun fichier ou dossier de ce type”"
     ]
    },
    {
     "ename": "ERROR",
     "evalue": "Error in file(file, \"rt\"): impossible d'ouvrir la connexion\n",
     "output_type": "error",
     "traceback": [
      "Error in file(file, \"rt\"): impossible d'ouvrir la connexion\nTraceback:\n",
      "1. read.table(\"OneClass_CenterReduce_features_Train.txt\", sep = \" \")",
      "2. file(file, \"rt\")"
     ]
    }
   ],
   "source": [
    "# load data\n",
    "X <- read.table(\"OneClass_CenterReduce_features_Train.txt\", sep = \" \")\n",
    "X2 <- read.table(\"OneClass_CenterReduce_features+3Mass_Train.txt\", sep = \" \")\n",
    "\n",
    "# create and plot RoC curve\n",
    "library(ROCR)\n",
    "\n",
    "roc <- ROCR::performance(ROCR::prediction(X[,2], X[,1]), \"tpr\", \"fpr\")\n",
    "plot(roc,col=\"blue\")\n",
    "\n",
    "roc2 <- ROCR::performance(ROCR::prediction(X2[,2], X2[,1]), \"tpr\", \"fpr\")\n",
    "plot(roc2,col=\"red\",add=T)\n"
   ]
  },
  {
   "cell_type": "code",
   "execution_count": 2,
   "metadata": {
    "collapsed": false
   },
   "outputs": [
    {
     "name": "stderr",
     "output_type": "stream",
     "text": [
      "Warning message in file(file, \"rt\"):\n",
      "“impossible d'ouvrir le fichier 'results_091117/OneClass_CenterReduce_features+3Mass_Background_Train.txt' : Aucun fichier ou dossier de ce type”"
     ]
    },
    {
     "ename": "ERROR",
     "evalue": "Error in file(file, \"rt\"): impossible d'ouvrir la connexion\n",
     "output_type": "error",
     "traceback": [
      "Error in file(file, \"rt\"): impossible d'ouvrir la connexion\nTraceback:\n",
      "1. read.table(\"results_091117/OneClass_CenterReduce_features+3Mass_Background_Train.txt\")",
      "2. file(file, \"rt\")"
     ]
    }
   ],
   "source": [
    "# hist\n",
    "xB <- read.table(\"results_091117/OneClass_CenterReduce_features+3Mass_Background_Train.txt\")\n",
    "xS <- read.table(\"results_091117/OneClass_CenterReduce_fetaures+3Mass_Signal_Train.txt\")\n",
    "\n",
    "hist(xB[,1],col=rgb(0,0,1,1/4),breaks=100,freq=F)\n",
    "hist(xS[,1],col=rgb(1,0,0,1/4),breaks=100,freq=F,add=T)\n"
   ]
  },
  {
   "cell_type": "code",
   "execution_count": null,
   "metadata": {
    "collapsed": true
   },
   "outputs": [],
   "source": []
  }
 ],
 "metadata": {
  "kernelspec": {
   "display_name": "R",
   "language": "R",
   "name": "ir"
  },
  "language_info": {
   "codemirror_mode": "r",
   "file_extension": ".r",
   "mimetype": "text/x-r-source",
   "name": "R",
   "pygments_lexer": "r",
   "version": "3.4.2"
  }
 },
 "nbformat": 4,
 "nbformat_minor": 2
}
